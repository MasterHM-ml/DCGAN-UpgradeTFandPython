{
 "cells": [
  {
   "cell_type": "code",
   "execution_count": 1,
   "id": "0b95a4c8",
   "metadata": {
    "execution": {
     "iopub.execute_input": "2023-07-05T18:35:45.854612Z",
     "iopub.status.busy": "2023-07-05T18:35:45.854106Z",
     "iopub.status.idle": "2023-07-05T18:35:45.871003Z",
     "shell.execute_reply": "2023-07-05T18:35:45.869991Z"
    },
    "papermill": {
     "duration": 0.026018,
     "end_time": "2023-07-05T18:35:45.873525",
     "exception": false,
     "start_time": "2023-07-05T18:35:45.847507",
     "status": "completed"
    },
    "tags": []
   },
   "outputs": [],
   "source": [
    "import os\n",
    "from glob import glob\n"
   ]
  },
  {
   "attachments": {},
   "cell_type": "markdown",
   "id": "7d7f5ba7",
   "metadata": {},
   "source": [
    "# Train Model"
   ]
  },
  {
   "attachments": {},
   "cell_type": "markdown",
   "id": "7f076a86",
   "metadata": {},
   "source": [
    "### Path to dataset"
   ]
  },
  {
   "cell_type": "code",
   "execution_count": null,
   "id": "bd36c265",
   "metadata": {},
   "outputs": [],
   "source": [
    "path_to_dataset = \"/kaggle/input/\"\n",
    "dataset_name = \"landscape-pictures\""
   ]
  },
  {
   "cell_type": "code",
   "execution_count": 2,
   "id": "35ad571b",
   "metadata": {
    "execution": {
     "iopub.execute_input": "2023-07-05T18:35:45.883111Z",
     "iopub.status.busy": "2023-07-05T18:35:45.882138Z",
     "iopub.status.idle": "2023-07-05T18:35:46.126362Z",
     "shell.execute_reply": "2023-07-05T18:35:46.125244Z"
    },
    "papermill": {
     "duration": 0.251751,
     "end_time": "2023-07-05T18:35:46.129187",
     "exception": false,
     "start_time": "2023-07-05T18:35:45.877436",
     "status": "completed"
    },
    "tags": []
   },
   "outputs": [
    {
     "name": "stdout",
     "output_type": "stream",
     "text": [
      "Number of images in celeba dataset: 4319\n"
     ]
    }
   ],
   "source": [
    "print(\"Number of images in celeba dataset: %d\" % len(os.listdir(os.path.join(path_to_dataset, dataset_name))))"
   ]
  },
  {
   "cell_type": "code",
   "execution_count": null,
   "id": "f0876d71",
   "metadata": {
    "execution": {
     "iopub.execute_input": "2023-07-05T18:35:53.257385Z",
     "iopub.status.busy": "2023-07-05T18:35:53.257006Z",
     "iopub.status.idle": "2023-07-06T04:29:54.534829Z",
     "shell.execute_reply": "2023-07-06T04:29:54.533575Z"
    },
    "papermill": {
     "duration": 35641.288048,
     "end_time": "2023-07-06T04:29:54.537939",
     "exception": false,
     "start_time": "2023-07-05T18:35:53.249891",
     "status": "completed"
    },
    "tags": []
   },
   "outputs": [],
   "source": [
    "!python3 main.py --train True --dataset \"$dataset_name\" --data-dir \"$path_to_dataset\" --crop True --output-height 256 --output-width 256\\\n",
    "--input-width 256 --input-height 256\\\n",
    "--c-dim 3 --batch-size 4 --epoch 100  --logging-frequency 500 \\\n",
    "--g-learning-rate 0.001 --d-learning-rate 0.001"
   ]
  },
  {
   "attachments": {},
   "cell_type": "markdown",
   "id": "c4b6d306",
   "metadata": {},
   "source": [
    "# Retrain Model"
   ]
  },
  {
   "attachments": {},
   "cell_type": "markdown",
   "id": "ca4b58c9",
   "metadata": {},
   "source": [
    "### retraining mode - path to previous checkpoint directory from where to load"
   ]
  },
  {
   "cell_type": "code",
   "execution_count": null,
   "id": "bc7795cb",
   "metadata": {},
   "outputs": [],
   "source": [
    "checkpoint_dir_timestamp = \"output/landscape-pictures/2023-07-05 16:15:56/checkpoint\""
   ]
  },
  {
   "cell_type": "code",
   "execution_count": null,
   "id": "1a137a33",
   "metadata": {},
   "outputs": [],
   "source": [
    "!python3 main.py --retrain True --dataset \"$dataset_name\" --data-dir \"$path_to_dataset\"  --crop True \\\n",
    "--output-height 256 --output-width 256 --input-width 256 --input-height 256\\\n",
    "--c-dim 3 --batch-size 4 --epoch 200  --logging-frequency 500 \\\n",
    "--g-learning-rate 0.001 --d-learning-rate 0.001 --load-model-prefix checkpoint\n",
    "--load-model-dir \"$checkpoint_dir_timestamp\"\n"
   ]
  },
  {
   "attachments": {},
   "cell_type": "markdown",
   "id": "b830c66e",
   "metadata": {},
   "source": [
    "# Test model - Inference"
   ]
  },
  {
   "cell_type": "code",
   "execution_count": 8,
   "id": "fc787a1b",
   "metadata": {
    "execution": {
     "iopub.execute_input": "2023-07-06T04:29:55.653440Z",
     "iopub.status.busy": "2023-07-06T04:29:55.653045Z",
     "iopub.status.idle": "2023-07-06T04:29:55.659947Z",
     "shell.execute_reply": "2023-07-06T04:29:55.658495Z"
    },
    "papermill": {
     "duration": 0.145435,
     "end_time": "2023-07-06T04:29:55.662057",
     "exception": false,
     "start_time": "2023-07-06T04:29:55.516622",
     "status": "completed"
    },
    "tags": []
   },
   "outputs": [
    {
     "name": "stdout",
     "output_type": "stream",
     "text": [
      "2023-07-05 18:36:04\n"
     ]
    }
   ],
   "source": [
    "checkpoint_dir_timestamp = \"output/landscape-pictures/2023-07-05 17:49:03/checkpoint\""
   ]
  },
  {
   "cell_type": "code",
   "execution_count": null,
   "id": "e0fe9b1c",
   "metadata": {
    "execution": {
     "iopub.execute_input": "2023-07-06T04:29:55.933699Z",
     "iopub.status.busy": "2023-07-06T04:29:55.932703Z",
     "iopub.status.idle": "2023-07-06T04:30:03.239313Z",
     "shell.execute_reply": "2023-07-06T04:30:03.238032Z"
    },
    "papermill": {
     "duration": 7.447384,
     "end_time": "2023-07-06T04:30:03.242891",
     "exception": false,
     "start_time": "2023-07-06T04:29:55.795507",
     "status": "completed"
    },
    "tags": []
   },
   "outputs": [],
   "source": [
    "!python3 main.py --dataset \"$dataset_name\" --data-dir \"$path_to_dataset\" --crop True \\\n",
    "--output-height 256 --output-width 256 --input-width 256 --input-height 256\\\n",
    "--c-dim 3 --batch-size 4 --epoch 200  --logging-frequency 500 \\\n",
    "--g-learning-rate 0.001 --d-learning-rate 0.001 \n",
    "--checkpoint-dir \"$checkpoint_dir_timestamp\"\n"
   ]
  },
  {
   "cell_type": "code",
   "execution_count": null,
   "id": "ec97ce7b",
   "metadata": {
    "papermill": {
     "duration": 0.142494,
     "end_time": "2023-07-06T04:30:03.530049",
     "exception": false,
     "start_time": "2023-07-06T04:30:03.387555",
     "status": "completed"
    },
    "tags": []
   },
   "outputs": [],
   "source": []
  }
 ],
 "metadata": {
  "kernelspec": {
   "display_name": "Python 3",
   "language": "python",
   "name": "python3"
  },
  "language_info": {
   "codemirror_mode": {
    "name": "ipython",
    "version": 3
   },
   "file_extension": ".py",
   "mimetype": "text/x-python",
   "name": "python",
   "nbconvert_exporter": "python",
   "pygments_lexer": "ipython3",
   "version": "3.10.10"
  },
  "papermill": {
   "default_parameters": {},
   "duration": 35671.115178,
   "end_time": "2023-07-06T04:30:04.580428",
   "environment_variables": {},
   "exception": null,
   "input_path": "__notebook__.ipynb",
   "output_path": "__notebook__.ipynb",
   "parameters": {},
   "start_time": "2023-07-05T18:35:33.465250",
   "version": "2.4.0"
  }
 },
 "nbformat": 4,
 "nbformat_minor": 5
}
